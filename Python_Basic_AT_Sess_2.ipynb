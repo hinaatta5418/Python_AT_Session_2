{
 "cells": [
  {
   "cell_type": "code",
   "execution_count": 4,
   "id": "a2124f71",
   "metadata": {},
   "outputs": [
    {
     "name": "stdout",
     "output_type": "stream",
     "text": [
      "Grade A\n"
     ]
    }
   ],
   "source": [
    "student_marks=89\n",
    "\n",
    "if student_marks>=85:\n",
    "    print(\"Grade A\")\n",
    "else:\n",
    "\n",
    "    print(\"Grade B\")"
   ]
  },
  {
   "cell_type": "code",
   "execution_count": 6,
   "id": "3656d903",
   "metadata": {},
   "outputs": [
    {
     "name": "stdout",
     "output_type": "stream",
     "text": [
      "i is smaller than 15 \n"
     ]
    }
   ],
   "source": [
    "i=10\n",
    "\n",
    "if i<15:\n",
    "    print(\"i is smaller than 15 \")\n",
    "elif i==15:\n",
    "    print(\"i is equal to 10\")\n",
    "else: \n",
    "    print(\"i is greater than 10\")"
   ]
  },
  {
   "cell_type": "code",
   "execution_count": 7,
   "id": "033f0c33",
   "metadata": {},
   "outputs": [
    {
     "data": {
      "text/plain": [
       "[10, 20, 30, 40]"
      ]
     },
     "execution_count": 7,
     "metadata": {},
     "output_type": "execute_result"
    }
   ],
   "source": [
    "list1 = [i for i in range(10, 50, 10)]\n",
    "list1"
   ]
  },
  {
   "cell_type": "code",
   "execution_count": 9,
   "id": "fc0c8c14",
   "metadata": {},
   "outputs": [
    {
     "data": {
      "text/plain": [
       "[30, 31, 32, 33, 34, 35, 36, 37, 38, 39]"
      ]
     },
     "execution_count": 9,
     "metadata": {},
     "output_type": "execute_result"
    }
   ],
   "source": [
    "list2=[i for i in range (30,40)]\n",
    "list2"
   ]
  },
  {
   "cell_type": "code",
   "execution_count": 10,
   "id": "55d432f5",
   "metadata": {},
   "outputs": [
    {
     "data": {
      "text/plain": [
       "list[-1]"
      ]
     },
     "execution_count": 10,
     "metadata": {},
     "output_type": "execute_result"
    }
   ],
   "source": [
    "list3=[10,20 ,30 ,40]\n",
    "list[-1]"
   ]
  },
  {
   "cell_type": "code",
   "execution_count": 12,
   "id": "52f15101",
   "metadata": {},
   "outputs": [
    {
     "name": "stdout",
     "output_type": "stream",
     "text": [
      "40\n"
     ]
    }
   ],
   "source": [
    "print(list3[-1])"
   ]
  },
  {
   "cell_type": "code",
   "execution_count": 15,
   "id": "44efb245",
   "metadata": {},
   "outputs": [
    {
     "name": "stdout",
     "output_type": "stream",
     "text": [
      "None\n"
     ]
    }
   ],
   "source": [
    "list4=[30 , 40 , 80]\n",
    "print(list2.extend(list4))"
   ]
  },
  {
   "cell_type": "code",
   "execution_count": null,
   "id": "677b3ac0",
   "metadata": {},
   "outputs": [],
   "source": []
  }
 ],
 "metadata": {
  "kernelspec": {
   "display_name": "Python 3 (ipykernel)",
   "language": "python",
   "name": "python3"
  },
  "language_info": {
   "codemirror_mode": {
    "name": "ipython",
    "version": 3
   },
   "file_extension": ".py",
   "mimetype": "text/x-python",
   "name": "python",
   "nbconvert_exporter": "python",
   "pygments_lexer": "ipython3",
   "version": "3.9.13"
  }
 },
 "nbformat": 4,
 "nbformat_minor": 5
}
